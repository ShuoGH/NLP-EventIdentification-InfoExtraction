{
 "cells": [
  {
   "cell_type": "markdown",
   "metadata": {},
   "source": [
    "## EDA of the News Data Set\n",
    "\n",
    "Have a overview of the whole data set."
   ]
  },
  {
   "cell_type": "code",
   "execution_count": 1,
   "metadata": {},
   "outputs": [],
   "source": [
    "import pandas as pd\n",
    "import numpy as np\n",
    "import matplotlib.pyplot as plt"
   ]
  },
  {
   "cell_type": "code",
   "execution_count": 3,
   "metadata": {},
   "outputs": [
    {
     "data": {
      "text/html": [
       "<div>\n",
       "<style scoped>\n",
       "    .dataframe tbody tr th:only-of-type {\n",
       "        vertical-align: middle;\n",
       "    }\n",
       "\n",
       "    .dataframe tbody tr th {\n",
       "        vertical-align: top;\n",
       "    }\n",
       "\n",
       "    .dataframe thead th {\n",
       "        text-align: right;\n",
       "    }\n",
       "</style>\n",
       "<table border=\"1\" class=\"dataframe\">\n",
       "  <thead>\n",
       "    <tr style=\"text-align: right;\">\n",
       "      <th></th>\n",
       "      <th>ArticleId</th>\n",
       "      <th>ArticleURL</th>\n",
       "      <th>ArticleTitle</th>\n",
       "      <th>ArticleDescription</th>\n",
       "      <th>ArticlePublishedTime</th>\n",
       "      <th>EventId</th>\n",
       "    </tr>\n",
       "  </thead>\n",
       "  <tbody>\n",
       "    <tr>\n",
       "      <th>0</th>\n",
       "      <td>5cd7ed707ddacd3b2b3b549e</td>\n",
       "      <td>https://www.bbc.co.uk/news/uk-england-suffolk-...</td>\n",
       "      <td>Lowestoft sea wall fall cyclist rescued by friend</td>\n",
       "      <td>Coastguards praise the boy's friend for his ac...</td>\n",
       "      <td>1557653530</td>\n",
       "      <td>NaN</td>\n",
       "    </tr>\n",
       "    <tr>\n",
       "      <th>1</th>\n",
       "      <td>5cd7e83beb96a44751294217</td>\n",
       "      <td>https://www.highsnobiety.com/p/met-gala-best-c...</td>\n",
       "      <td>The Met Gala &amp; ‘Game of Thrones’ Feature in Th...</td>\n",
       "      <td>Once again, our ever-sarcastic readership have...</td>\n",
       "      <td>1557653563</td>\n",
       "      <td>NaN</td>\n",
       "    </tr>\n",
       "    <tr>\n",
       "      <th>2</th>\n",
       "      <td>5cd7e99a8e662d1e4435cb3d</td>\n",
       "      <td>https://www.mirror.co.uk/news/uk-news/boy-dies...</td>\n",
       "      <td>Boy dies on prom day after allergic reaction t...</td>\n",
       "      <td>Joe Dale's family have spoken out about losing...</td>\n",
       "      <td>1557653574</td>\n",
       "      <td>NaN</td>\n",
       "    </tr>\n",
       "    <tr>\n",
       "      <th>3</th>\n",
       "      <td>5cd7f6dd7ddacd3b2b3b56ab</td>\n",
       "      <td>https://www.independent.co.uk/voices/paddy-jac...</td>\n",
       "      <td>Paddy Jackson’s return to Rugby is yet more pr...</td>\n",
       "      <td>He may have been found not guilty of rape last...</td>\n",
       "      <td>1557653588</td>\n",
       "      <td>NaN</td>\n",
       "    </tr>\n",
       "    <tr>\n",
       "      <th>4</th>\n",
       "      <td>5cd7e89c8e662d1e4435cb13</td>\n",
       "      <td>https://www.standard.co.uk/showbiz/celebrity-n...</td>\n",
       "      <td>BAFTA TV Awards 2019: Stars prepare for glitzy...</td>\n",
       "      <td>Stars are preparing for Sunday night s TV Baft...</td>\n",
       "      <td>1557653610</td>\n",
       "      <td>NaN</td>\n",
       "    </tr>\n",
       "  </tbody>\n",
       "</table>\n",
       "</div>"
      ],
      "text/plain": [
       "                  ArticleId  \\\n",
       "0  5cd7ed707ddacd3b2b3b549e   \n",
       "1  5cd7e83beb96a44751294217   \n",
       "2  5cd7e99a8e662d1e4435cb3d   \n",
       "3  5cd7f6dd7ddacd3b2b3b56ab   \n",
       "4  5cd7e89c8e662d1e4435cb13   \n",
       "\n",
       "                                          ArticleURL  \\\n",
       "0  https://www.bbc.co.uk/news/uk-england-suffolk-...   \n",
       "1  https://www.highsnobiety.com/p/met-gala-best-c...   \n",
       "2  https://www.mirror.co.uk/news/uk-news/boy-dies...   \n",
       "3  https://www.independent.co.uk/voices/paddy-jac...   \n",
       "4  https://www.standard.co.uk/showbiz/celebrity-n...   \n",
       "\n",
       "                                        ArticleTitle  \\\n",
       "0  Lowestoft sea wall fall cyclist rescued by friend   \n",
       "1  The Met Gala & ‘Game of Thrones’ Feature in Th...   \n",
       "2  Boy dies on prom day after allergic reaction t...   \n",
       "3  Paddy Jackson’s return to Rugby is yet more pr...   \n",
       "4  BAFTA TV Awards 2019: Stars prepare for glitzy...   \n",
       "\n",
       "                                  ArticleDescription  ArticlePublishedTime  \\\n",
       "0  Coastguards praise the boy's friend for his ac...            1557653530   \n",
       "1  Once again, our ever-sarcastic readership have...            1557653563   \n",
       "2  Joe Dale's family have spoken out about losing...            1557653574   \n",
       "3  He may have been found not guilty of rape last...            1557653588   \n",
       "4  Stars are preparing for Sunday night s TV Baft...            1557653610   \n",
       "\n",
       "   EventId  \n",
       "0      NaN  \n",
       "1      NaN  \n",
       "2      NaN  \n",
       "3      NaN  \n",
       "4      NaN  "
      ]
     },
     "execution_count": 3,
     "metadata": {},
     "output_type": "execute_result"
    }
   ],
   "source": [
    "data_type = {'ArticleId': 'str', \n",
    "             'ArticleURL': 'str', \n",
    "             'ArticleTitle': 'str',\n",
    "             'ArticleDescription': 'str',\n",
    "             'ArticlePublishedTime': 'int'}\n",
    "df = pd.read_excel(\"data/data_news.xlsx\", dtype=data_type)\n",
    "\n",
    "df.head()"
   ]
  },
  {
   "cell_type": "code",
   "execution_count": 4,
   "metadata": {},
   "outputs": [
    {
     "name": "stdout",
     "output_type": "stream",
     "text": [
      "<class 'pandas.core.frame.DataFrame'>\n",
      "RangeIndex: 13022 entries, 0 to 13021\n",
      "Data columns (total 6 columns):\n",
      "ArticleId               13022 non-null object\n",
      "ArticleURL              13022 non-null object\n",
      "ArticleTitle            13022 non-null object\n",
      "ArticleDescription      9594 non-null object\n",
      "ArticlePublishedTime    13022 non-null int64\n",
      "EventId                 0 non-null float64\n",
      "dtypes: float64(1), int64(1), object(4)\n",
      "memory usage: 610.5+ KB\n"
     ]
    }
   ],
   "source": [
    "df.info()"
   ]
  },
  {
   "cell_type": "markdown",
   "metadata": {},
   "source": [
    "### Convert the unix timestamp\n",
    "\n",
    "Conver the timestamp and visualize the count\n"
   ]
  },
  {
   "cell_type": "code",
   "execution_count": 5,
   "metadata": {},
   "outputs": [],
   "source": [
    "from datetime import datetime"
   ]
  },
  {
   "cell_type": "code",
   "execution_count": 6,
   "metadata": {},
   "outputs": [
    {
     "name": "stdout",
     "output_type": "stream",
     "text": [
      "0   2019-05-12 09:32:10\n",
      "1   2019-05-12 09:32:43\n",
      "2   2019-05-12 09:32:54\n",
      "3   2019-05-12 09:33:08\n",
      "4   2019-05-12 09:33:30\n",
      "5   2019-05-12 09:33:47\n",
      "6   2019-05-12 09:33:59\n",
      "7   2019-05-12 09:34:34\n",
      "8   2019-05-12 09:34:49\n",
      "9   2019-05-12 09:34:57\n",
      "dtype: datetime64[ns]\n",
      "\n",
      "Length: 13022\n"
     ]
    }
   ],
   "source": [
    "n=len(df['ArticleId'])\n",
    "\n",
    "time_converter= lambda x: datetime.utcfromtimestamp(x)\n",
    "\n",
    "article_time=pd.Series([time_converter(i) for i in df['ArticlePublishedTime']])\n",
    "\n",
    "# article_time=pd.to_datetime(df['ArticlePublishedTime'],unit='s')\n",
    "# Pandas can realize it using one line of code.\n",
    "\n",
    "print(article_time[:10])\n",
    "print(\"\\nLength: {}\".format(len(article_time)))"
   ]
  },
  {
   "cell_type": "code",
   "execution_count": 7,
   "metadata": {},
   "outputs": [
    {
     "name": "stdout",
     "output_type": "stream",
     "text": [
      "2019-05-13    7626\n",
      "2019-05-12    3355\n",
      "2019-05-14    2041\n",
      "dtype: int64\n"
     ]
    },
    {
     "data": {
      "image/png": "[encoded data removed]",
      "text/plain": [
       "<Figure size 432x288 with 1 Axes>"
      ]
     },
     "metadata": {
      "needs_background": "light"
     },
     "output_type": "display_data"
    }
   ],
   "source": [
    "# Count the number of articles on each day and draw the bar plot to show that\n",
    "articles_count_by_day = article_time.dt.date.value_counts(sort=False)\n",
    "print(article_time.dt.date.value_counts())\n",
    "\n",
    "x = [t.strftime('%d-%m-%Y') for t in articles_count_by_day.index]\n",
    "plt.bar(x, articles_count_by_day)\n",
    "plt.title(\"Count of Published Articles by Day\")\n",
    "\n",
    "# Show the values of each bar\n",
    "xlocs, xlabs = plt.xticks()\n",
    "for i, v in enumerate(articles_count_by_day):\n",
    "    plt.text(xlocs[i] - 0.1, v + 0.5, str(v))\n",
    "plt.xlabel(\"Date\")\n",
    "plt.ylabel(\"Number of Articles\")\n",
    "plt.show()"
   ]
  },
  {
   "cell_type": "markdown",
   "metadata": {},
   "source": [
    "### Count the length of the Title"
   ]
  },
  {
   "cell_type": "code",
   "execution_count": 8,
   "metadata": {},
   "outputs": [],
   "source": [
    "string_counter= lambda x: len(str(x).split(' '))"
   ]
  },
  {
   "cell_type": "code",
   "execution_count": 9,
   "metadata": {},
   "outputs": [],
   "source": [
    "title_length = pd.Series([string_counter(str(x))\n",
    "                            for index, [x] in df[['ArticleTitle']].iterrows()])"
   ]
  },
  {
   "cell_type": "code",
   "execution_count": 11,
   "metadata": {},
   "outputs": [
    {
     "data": {
      "image/png": "[encoded data removed]",
      "text/plain": [
       "<Figure size 432x288 with 1 Axes>"
      ]
     },
     "metadata": {
      "needs_background": "light"
     },
     "output_type": "display_data"
    },
    {
     "name": "stdout",
     "output_type": "stream",
     "text": [
      "count    13022.000000\n",
      "mean        11.376747\n",
      "std          4.173726\n",
      "min          1.000000\n",
      "25%          9.000000\n",
      "50%         11.000000\n",
      "75%         14.000000\n",
      "max         44.000000\n",
      "dtype: float64\n"
     ]
    }
   ],
   "source": [
    "plt.boxplot(title_length)\n",
    "plt.title(\"The length of title distribution\")\n",
    "plt.show()\n",
    "print(title_length.describe())"
   ]
  },
  {
   "cell_type": "markdown",
   "metadata": {},
   "source": [
    "Most of the title are not very long. The average of lengths is 11.37 words. The maximum is 44 words, which is also okay."
   ]
  },
  {
   "cell_type": "markdown",
   "metadata": {},
   "source": [
    "### Count the length of the Description \n",
    "\n",
    "There are some `nan` value in this column, drop this rows before doing the count.\n",
    "\n",
    "- From previous `df.info()`, we can see that there are 9594 non-null in the `ArticleDescription` column, comparing with the overall 13022 items."
   ]
  },
  {
   "cell_type": "code",
   "execution_count": 12,
   "metadata": {},
   "outputs": [
    {
     "name": "stdout",
     "output_type": "stream",
     "text": [
      "<class 'pandas.core.frame.DataFrame'>\n",
      "RangeIndex: 13022 entries, 0 to 13021\n",
      "Data columns (total 1 columns):\n",
      "ArticleDescription    9594 non-null object\n",
      "dtypes: object(1)\n",
      "memory usage: 101.8+ KB\n"
     ]
    }
   ],
   "source": [
    "df_description=df[['ArticleDescription']]\n",
    "df_description.info()"
   ]
  },
  {
   "cell_type": "code",
   "execution_count": 13,
   "metadata": {},
   "outputs": [],
   "source": [
    "df_description_nonan=df_description.dropna()\n",
    "description_length = pd.Series([string_counter(str(x))\n",
    "                            for index, [x] in df_description_nonan[['ArticleDescription']].iterrows()])"
   ]
  },
  {
   "cell_type": "code",
   "execution_count": 14,
   "metadata": {
    "scrolled": false
   },
   "outputs": [
    {
     "data": {
      "image/png": "[encoded data removed]",
      "text/plain": [
       "<Figure size 432x288 with 1 Axes>"
      ]
     },
     "metadata": {
      "needs_background": "light"
     },
     "output_type": "display_data"
    },
    {
     "name": "stdout",
     "output_type": "stream",
     "text": [
      "count    9594.000000\n",
      "mean       59.098916\n",
      "std       141.596851\n",
      "min         1.000000\n",
      "25%        20.000000\n",
      "50%        30.000000\n",
      "75%        56.000000\n",
      "max      4236.000000\n",
      "dtype: float64\n"
     ]
    }
   ],
   "source": [
    "plt.boxplot(description_length)\n",
    "plt.title(\"The length of Description distribution\")\n",
    "plt.show()\n",
    "print(description_length.describe())"
   ]
  },
  {
   "cell_type": "markdown",
   "metadata": {},
   "source": [
    "The length of the description varies a lot according to different news. \n",
    "- More than 3000 news don't have the description.\n",
    "- The minimum is 1?\n",
    "- The maximum is 4236, which is very long..."
   ]
  },
  {
   "cell_type": "code",
   "execution_count": 15,
   "metadata": {
    "scrolled": true
   },
   "outputs": [
    {
     "data": {
      "text/html": [
       "<div>\n",
       "<style scoped>\n",
       "    .dataframe tbody tr th:only-of-type {\n",
       "        vertical-align: middle;\n",
       "    }\n",
       "\n",
       "    .dataframe tbody tr th {\n",
       "        vertical-align: top;\n",
       "    }\n",
       "\n",
       "    .dataframe thead th {\n",
       "        text-align: right;\n",
       "    }\n",
       "</style>\n",
       "<table border=\"1\" class=\"dataframe\">\n",
       "  <thead>\n",
       "    <tr style=\"text-align: right;\">\n",
       "      <th></th>\n",
       "      <th>index</th>\n",
       "      <th>ArticleDescription</th>\n",
       "    </tr>\n",
       "  </thead>\n",
       "  <tbody>\n",
       "    <tr>\n",
       "      <th>10</th>\n",
       "      <td>10</td>\n",
       "      <td>https://m.haberturk.com/bakan-albayrak-tan-o...</td>\n",
       "    </tr>\n",
       "    <tr>\n",
       "      <th>384</th>\n",
       "      <td>508</td>\n",
       "      <td>https://www.gazeteduvar.com.tr/yazarlar/2019...</td>\n",
       "    </tr>\n",
       "    <tr>\n",
       "      <th>561</th>\n",
       "      <td>755</td>\n",
       "      <td>https://www.t24.com.tr/haber/dsp-den-istanbul-...</td>\n",
       "    </tr>\n",
       "    <tr>\n",
       "      <th>893</th>\n",
       "      <td>1208</td>\n",
       "      <td>https://www.politico.eu/article/germany-mulls-...</td>\n",
       "    </tr>\n",
       "    <tr>\n",
       "      <th>1159</th>\n",
       "      <td>1573</td>\n",
       "      <td>https://cyprus-mail.com/2019/05/12/blatant-new...</td>\n",
       "    </tr>\n",
       "    <tr>\n",
       "      <th>1395</th>\n",
       "      <td>1905</td>\n",
       "      <td>https://t24.com.tr/haber/sezai-temelli-23-hazi...</td>\n",
       "    </tr>\n",
       "    <tr>\n",
       "      <th>1563</th>\n",
       "      <td>2138</td>\n",
       "      <td>https://www.sozcu.com.tr/2019/gundem/somalid...</td>\n",
       "    </tr>\n",
       "    <tr>\n",
       "      <th>1829</th>\n",
       "      <td>2494</td>\n",
       "      <td>TODAY</td>\n",
       "    </tr>\n",
       "    <tr>\n",
       "      <th>2793</th>\n",
       "      <td>3856</td>\n",
       "      <td>Dracarys.</td>\n",
       "    </tr>\n",
       "    <tr>\n",
       "      <th>3149</th>\n",
       "      <td>4298</td>\n",
       "      <td>Warts'n'all.</td>\n",
       "    </tr>\n",
       "    <tr>\n",
       "      <th>3202</th>\n",
       "      <td>4363</td>\n",
       "      <td>undefined</td>\n",
       "    </tr>\n",
       "    <tr>\n",
       "      <th>3232</th>\n",
       "      <td>4397</td>\n",
       "      <td>https://www.nytimes.com/2019/05/12/world/mid...</td>\n",
       "    </tr>\n",
       "    <tr>\n",
       "      <th>3255</th>\n",
       "      <td>4425</td>\n",
       "      <td>undefined</td>\n",
       "    </tr>\n",
       "    <tr>\n",
       "      <th>3867</th>\n",
       "      <td>5269</td>\n",
       "      <td>http://tcmb.gov.tr/wps/wcm/connect/EN/TCMB+E...</td>\n",
       "    </tr>\n",
       "    <tr>\n",
       "      <th>4045</th>\n",
       "      <td>5548</td>\n",
       "      <td>https://thearabweekly.com/turkeys-gas-explor...</td>\n",
       "    </tr>\n",
       "    <tr>\n",
       "      <th>4048</th>\n",
       "      <td>5551</td>\n",
       "      <td>https://www.sozcu.com.tr/2019/yazarlar/deniz...</td>\n",
       "    </tr>\n",
       "    <tr>\n",
       "      <th>4108</th>\n",
       "      <td>5632</td>\n",
       "      <td>Dracarys.</td>\n",
       "    </tr>\n",
       "    <tr>\n",
       "      <th>4114</th>\n",
       "      <td>5639</td>\n",
       "      <td>https://www.dunya.com/ekonomi/imalat-ve-ihra...</td>\n",
       "    </tr>\n",
       "    <tr>\n",
       "      <th>4394</th>\n",
       "      <td>5994</td>\n",
       "      <td>undefined</td>\n",
       "    </tr>\n",
       "    <tr>\n",
       "      <th>4454</th>\n",
       "      <td>6067</td>\n",
       "      <td>Game-changer.</td>\n",
       "    </tr>\n",
       "    <tr>\n",
       "      <th>4690</th>\n",
       "      <td>6377</td>\n",
       "      <td>http://www.diken.com.tr/reyhanli-saldirisinin-...</td>\n",
       "    </tr>\n",
       "    <tr>\n",
       "      <th>4941</th>\n",
       "      <td>6750</td>\n",
       "      <td>undefined</td>\n",
       "    </tr>\n",
       "    <tr>\n",
       "      <th>5200</th>\n",
       "      <td>7099</td>\n",
       "      <td>undefined</td>\n",
       "    </tr>\n",
       "    <tr>\n",
       "      <th>5280</th>\n",
       "      <td>7205</td>\n",
       "      <td>undefined</td>\n",
       "    </tr>\n",
       "    <tr>\n",
       "      <th>5985</th>\n",
       "      <td>8150</td>\n",
       "      <td>undefined</td>\n",
       "    </tr>\n",
       "    <tr>\n",
       "      <th>6399</th>\n",
       "      <td>8748</td>\n",
       "      <td>https://ahvalnews.com/elections/sacked-turkish...</td>\n",
       "    </tr>\n",
       "    <tr>\n",
       "      <th>6700</th>\n",
       "      <td>9173</td>\n",
       "      <td>https://www.ecfr.eu/article/commentary_the_b...</td>\n",
       "    </tr>\n",
       "    <tr>\n",
       "      <th>6994</th>\n",
       "      <td>9552</td>\n",
       "      <td>...</td>\n",
       "    </tr>\n",
       "    <tr>\n",
       "      <th>7194</th>\n",
       "      <td>9800</td>\n",
       "      <td>TODAY</td>\n",
       "    </tr>\n",
       "    <tr>\n",
       "      <th>7232</th>\n",
       "      <td>9838</td>\n",
       "      <td>FICTION</td>\n",
       "    </tr>\n",
       "    <tr>\n",
       "      <th>7347</th>\n",
       "      <td>9968</td>\n",
       "      <td>https://www.bloomberg.com/news/articles/2019...</td>\n",
       "    </tr>\n",
       "    <tr>\n",
       "      <th>7946</th>\n",
       "      <td>10890</td>\n",
       "      <td>Dracarys.</td>\n",
       "    </tr>\n",
       "    <tr>\n",
       "      <th>9016</th>\n",
       "      <td>12237</td>\n",
       "      <td>https://foreignpolicy.com/2019/05/13/turkish...</td>\n",
       "    </tr>\n",
       "    <tr>\n",
       "      <th>9237</th>\n",
       "      <td>12545</td>\n",
       "      <td>undefined</td>\n",
       "    </tr>\n",
       "    <tr>\n",
       "      <th>9402</th>\n",
       "      <td>12762</td>\n",
       "      <td>https://www.washingtonpost.com/opinions/glob...</td>\n",
       "    </tr>\n",
       "    <tr>\n",
       "      <th>9580</th>\n",
       "      <td>13002</td>\n",
       "      <td>undefined</td>\n",
       "    </tr>\n",
       "  </tbody>\n",
       "</table>\n",
       "</div>"
      ],
      "text/plain": [
       "      index                                 ArticleDescription\n",
       "10       10    https://m.haberturk.com/bakan-albayrak-tan-o...\n",
       "384     508    https://www.gazeteduvar.com.tr/yazarlar/2019...\n",
       "561     755  https://www.t24.com.tr/haber/dsp-den-istanbul-...\n",
       "893    1208  https://www.politico.eu/article/germany-mulls-...\n",
       "1159   1573  https://cyprus-mail.com/2019/05/12/blatant-new...\n",
       "1395   1905  https://t24.com.tr/haber/sezai-temelli-23-hazi...\n",
       "1563   2138    https://www.sozcu.com.tr/2019/gundem/somalid...\n",
       "1829   2494                                              TODAY\n",
       "2793   3856                                          Dracarys.\n",
       "3149   4298                                       Warts'n'all.\n",
       "3202   4363                                          undefined\n",
       "3232   4397    https://www.nytimes.com/2019/05/12/world/mid...\n",
       "3255   4425                                          undefined\n",
       "3867   5269    http://tcmb.gov.tr/wps/wcm/connect/EN/TCMB+E...\n",
       "4045   5548    https://thearabweekly.com/turkeys-gas-explor...\n",
       "4048   5551    https://www.sozcu.com.tr/2019/yazarlar/deniz...\n",
       "4108   5632                                          Dracarys.\n",
       "4114   5639    https://www.dunya.com/ekonomi/imalat-ve-ihra...\n",
       "4394   5994                                          undefined\n",
       "4454   6067                                      Game-changer.\n",
       "4690   6377  http://www.diken.com.tr/reyhanli-saldirisinin-...\n",
       "4941   6750                                          undefined\n",
       "5200   7099                                          undefined\n",
       "5280   7205                                          undefined\n",
       "5985   8150                                          undefined\n",
       "6399   8748  https://ahvalnews.com/elections/sacked-turkish...\n",
       "6700   9173    https://www.ecfr.eu/article/commentary_the_b...\n",
       "6994   9552                                                ...\n",
       "7194   9800                                              TODAY\n",
       "7232   9838                                            FICTION\n",
       "7347   9968    https://www.bloomberg.com/news/articles/2019...\n",
       "7946  10890                                          Dracarys.\n",
       "9016  12237    https://foreignpolicy.com/2019/05/13/turkish...\n",
       "9237  12545                                          undefined\n",
       "9402  12762    https://www.washingtonpost.com/opinions/glob...\n",
       "9580  13002                                          undefined"
      ]
     },
     "execution_count": 15,
     "metadata": {},
     "output_type": "execute_result"
    }
   ],
   "source": [
    "s=pd.Series(df_description_nonan['ArticleDescription']).reset_index()\n",
    "s[description_length==1]"
   ]
  },
  {
   "cell_type": "markdown",
   "metadata": {},
   "source": [
    "The news data shown above is the data with 1-length description. Some of them are URLs, some only contain one word, while some are undefined."
   ]
  },
  {
   "cell_type": "markdown",
   "metadata": {},
   "source": [
    "**Now, we have a basic knowledge of the data set. It's time to turn to the first task.**\n",
    "- Identify the breaking news event"
   ]
  },
  {
   "cell_type": "code",
   "execution_count": null,
   "metadata": {},
   "outputs": [],
   "source": []
  }
 ],
 "metadata": {
  "kernelspec": {
   "display_name": "Python 3",
   "language": "python",
   "name": "python3"
  },
  "language_info": {
   "codemirror_mode": {
    "name": "ipython",
    "version": 3
   },
   "file_extension": ".py",
   "mimetype": "text/x-python",
   "name": "python",
   "nbconvert_exporter": "python",
   "pygments_lexer": "ipython3",
   "version": "3.7.1"
  },
  "varInspector": {
   "cols": {
    "lenName": 16,
    "lenType": 16,
    "lenVar": 40
   },
   "kernels_config": {
    "python": {
     "delete_cmd_postfix": "",
     "delete_cmd_prefix": "del ",
     "library": "var_list.py",
     "varRefreshCmd": "print(var_dic_list())"
    },
    "r": {
     "delete_cmd_postfix": ") ",
     "delete_cmd_prefix": "rm(",
     "library": "var_list.r",
     "varRefreshCmd": "cat(var_dic_list()) "
    }
   },
   "types_to_exclude": [
    "module",
    "function",
    "builtin_function_or_method",
    "instance",
    "_Feature"
   ],
   "window_display": true
  }
 },
 "nbformat": 4,
 "nbformat_minor": 2
}
