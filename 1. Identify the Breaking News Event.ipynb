{
 "cells": [
  {
   "cell_type": "markdown",
   "metadata": {},
   "source": [
    "## Identify major breaking news events\n",
    "\n",
    "**Idea**:\n",
    "The basic idea of tackle this problem is to do the **clustering problem**. Before that, I should do some data cleaning and tokenization work.\n",
    "\n",
    "Pipeline:\n",
    "- Load the data set\n",
    "- Clean the text: tokenization, remove stopwords and punctuation\n",
    "- Extract the features (TF-IDF, word vectors)\n",
    "- Clustering\n",
    "- Output the results.\n",
    "\n",
    "We only use the `ArticleTitle` in this part.\n",
    "\n",
    "To save time, the data set used in this notebook is shortten by the original data set."
   ]
  },
  {
   "cell_type": "markdown",
   "metadata": {},
   "source": [
    "### Load the Data Set"
   ]
  },
  {
   "cell_type": "code",
   "execution_count": 2,
   "metadata": {},
   "outputs": [],
   "source": [
    "import pandas as pd\n",
    "import numpy as np"
   ]
  },
  {
   "cell_type": "code",
   "execution_count": 152,
   "metadata": {},
   "outputs": [
    {
     "data": {
      "text/html": [
       "<div>\n",
       "<style scoped>\n",
       "    .dataframe tbody tr th:only-of-type {\n",
       "        vertical-align: middle;\n",
       "    }\n",
       "\n",
       "    .dataframe tbody tr th {\n",
       "        vertical-align: top;\n",
       "    }\n",
       "\n",
       "    .dataframe thead th {\n",
       "        text-align: right;\n",
       "    }\n",
       "</style>\n",
       "<table border=\"1\" class=\"dataframe\">\n",
       "  <thead>\n",
       "    <tr style=\"text-align: right;\">\n",
       "      <th></th>\n",
       "      <th>ArticleTitle</th>\n",
       "    </tr>\n",
       "  </thead>\n",
       "  <tbody>\n",
       "    <tr>\n",
       "      <th>0</th>\n",
       "      <td>Lowestoft sea wall fall cyclist rescued by friend</td>\n",
       "    </tr>\n",
       "    <tr>\n",
       "      <th>1</th>\n",
       "      <td>The Met Gala &amp; ‘Game of Thrones’ Feature in Th...</td>\n",
       "    </tr>\n",
       "    <tr>\n",
       "      <th>2</th>\n",
       "      <td>Boy dies on prom day after allergic reaction t...</td>\n",
       "    </tr>\n",
       "    <tr>\n",
       "      <th>3</th>\n",
       "      <td>Paddy Jackson’s return to Rugby is yet more pr...</td>\n",
       "    </tr>\n",
       "    <tr>\n",
       "      <th>4</th>\n",
       "      <td>BAFTA TV Awards 2019: Stars prepare for glitzy...</td>\n",
       "    </tr>\n",
       "  </tbody>\n",
       "</table>\n",
       "</div>"
      ],
      "text/plain": [
       "                                        ArticleTitle\n",
       "0  Lowestoft sea wall fall cyclist rescued by friend\n",
       "1  The Met Gala & ‘Game of Thrones’ Feature in Th...\n",
       "2  Boy dies on prom day after allergic reaction t...\n",
       "3  Paddy Jackson’s return to Rugby is yet more pr...\n",
       "4  BAFTA TV Awards 2019: Stars prepare for glitzy..."
      ]
     },
     "execution_count": 152,
     "metadata": {},
     "output_type": "execute_result"
    }
   ],
   "source": [
    "data_type = {'ArticleId': 'str',\n",
    "             'ArticleURL': 'str',\n",
    "             'ArticleTitle': 'str',\n",
    "             'ArticleDescription': 'str',\n",
    "             'ArticlePublishedTime': 'int'}\n",
    "df = pd.read_excel(\"data/data_news_shorten.xlsx\", dtype=data_type)[['ArticleTitle']]\n",
    "df.head()"
   ]
  },
  {
   "cell_type": "code",
   "execution_count": 153,
   "metadata": {},
   "outputs": [
    {
     "name": "stdout",
     "output_type": "stream",
     "text": [
      "<class 'pandas.core.frame.DataFrame'>\n",
      "RangeIndex: 1000 entries, 0 to 999\n",
      "Data columns (total 1 columns):\n",
      "ArticleTitle    1000 non-null object\n",
      "dtypes: object(1)\n",
      "memory usage: 7.9+ KB\n"
     ]
    }
   ],
   "source": [
    "df.info()"
   ]
  },
  {
   "cell_type": "markdown",
   "metadata": {},
   "source": [
    "### Clean the Text\n",
    "\n",
    "- lower case and tokenize \n",
    "- Remove stopwords and punctuations"
   ]
  },
  {
   "cell_type": "code",
   "execution_count": 154,
   "metadata": {},
   "outputs": [],
   "source": [
    "from nltk.tokenize import word_tokenize\n",
    "from nltk.corpus import stopwords\n",
    "import string\n",
    "import re\n",
    "\n",
    "list_of_stop_words = set(stopwords.words('english'))\n",
    "punctuations = list(string.punctuation)"
   ]
  },
  {
   "cell_type": "code",
   "execution_count": 155,
   "metadata": {},
   "outputs": [],
   "source": [
    "def remove_stopwords_punc(tokenizedSentence):\n",
    "    '''\n",
    "    Remove the stops words and punctuation\n",
    "    args:\n",
    "        tokenizedSentence: the sentence which has been tokenized into words.\n",
    "    returns:\n",
    "        list of words without stopwords and punctuations, the word less than 2 letters are also deleted\n",
    "    '''\n",
    "    word_tokenized_without_stop_punc = []\n",
    "    for word in tokenizedSentence:\n",
    "        if (word not in list_of_stop_words) and (word not in punctuations) and (len(word)>2):\n",
    "            word_tokenized_without_stop_punc.append(word)\n",
    "    return word_tokenized_without_stop_punc\n",
    "\n",
    "def strip_symbols_number(sentence):\n",
    "    '''\n",
    "    Remove all symbol characters and the number combination(like 100th).\n",
    "    \n",
    "    Since the previous `remove_stopwords_punc` is not very effective to get rid of the symbols and some combination. \n",
    "    `re` module is used here.\n",
    "    '''\n",
    "    s=re.sub(r'[^\\w\\s]', ' ', sentence)\n",
    "    s=re.sub(r'([A-Za-z]+[\\d]+[\\w]*|[\\d]+[A-Za-z]+[\\w]*)|[\\d]',' ',s)\n",
    "    return s\n"
   ]
  },
  {
   "cell_type": "code",
   "execution_count": 160,
   "metadata": {},
   "outputs": [
    {
     "name": "stdout",
     "output_type": "stream",
     "text": [
      "CPU times: user 517 ms, sys: 9.11 ms, total: 526 ms\n",
      "Wall time: 523 ms\n"
     ]
    }
   ],
   "source": [
    "%%time\n",
    "# Clean the text and tokenize\n",
    "df['Words_Tokenized']=''\n",
    "for index,content in df.iterrows():\n",
    "    sentence=content['ArticleTitle'].lower()\n",
    "    s=strip_symbols_number(sentence)\n",
    "    token_list=word_tokenize(s)\n",
    "    words_list=remove_stopwords_punc(token_list)\n",
    "    df.loc[index,'Words_Tokenized']=words_list"
   ]
  },
  {
   "cell_type": "code",
   "execution_count": 163,
   "metadata": {},
   "outputs": [],
   "source": [
    "df.head()\n",
    "# df_doc2vec=df.copy()\n",
    "# for index,content in df_doc2vec.iterrows():\n",
    "#     df_doc2vec.loc[index,'Words_Tokenized']=' '.join(content['Words_Tokenized'])\n",
    "# df_doc2vec[['Words_Tokenized']].to_csv('data/news_corpus_for_doc2vec.csv',index=False)"
   ]
  },
  {
   "cell_type": "markdown",
   "metadata": {},
   "source": [
    "### Extract Features\n",
    "There are several ways to extract the features.\n",
    "- TF/TF-IDF\n",
    "- word vectors"
   ]
  },
  {
   "cell_type": "markdown",
   "metadata": {},
   "source": [
    "#### Extract the TF-IDF Feature"
   ]
  },
  {
   "cell_type": "code",
   "execution_count": 16,
   "metadata": {},
   "outputs": [],
   "source": [
    "from sklearn import feature_extraction\n",
    "from sklearn.feature_extraction.text import TfidfTransformer\n",
    "from sklearn.feature_extraction.text import CountVectorizer"
   ]
  },
  {
   "cell_type": "code",
   "execution_count": 102,
   "metadata": {},
   "outputs": [
    {
     "name": "stdout",
     "output_type": "stream",
     "text": [
      "CPU times: user 1.68 s, sys: 174 ms, total: 1.85 s\n",
      "Wall time: 2.05 s\n"
     ]
    }
   ],
   "source": [
    "%%time \n",
    "\n",
    "corpus4tfidf=[' '.join(content['Words_Tokenized']) for index,content in df.iterrows()]\n",
    "\n",
    "vectorizer = CountVectorizer()  \n",
    "transformer = TfidfTransformer()  \n",
    "\n",
    "tfidf = transformer.fit_transform(vectorizer.fit_transform(corpus4tfidf))\n",
    "vocab_tfidf = vectorizer.get_feature_names()  \n",
    "weight_tfidf = tfidf.toarray()  "
   ]
  },
  {
   "cell_type": "code",
   "execution_count": 89,
   "metadata": {},
   "outputs": [
    {
     "name": "stdout",
     "output_type": "stream",
     "text": [
      "CPU times: user 230 ms, sys: 116 ms, total: 347 ms\n",
      "Wall time: 388 ms\n"
     ]
    }
   ],
   "source": [
    "%%time\n",
    "\n",
    "transformer_tf = TfidfTransformer(use_idf=False)\n",
    "tf=transformer_tf.fit_transform(vectorizer.fit_transform(corpus4tfidf))\n",
    "weight_tf=tf.toarray()"
   ]
  },
  {
   "cell_type": "code",
   "execution_count": 105,
   "metadata": {},
   "outputs": [
    {
     "data": {
      "text/plain": [
       "(13022, 18994)"
      ]
     },
     "execution_count": 105,
     "metadata": {},
     "output_type": "execute_result"
    }
   ],
   "source": [
    "weight_tfidf.shape"
   ]
  },
  {
   "cell_type": "markdown",
   "metadata": {},
   "source": [
    "By here, I found two problems:\n",
    "- there are some non-english words in the `vocab_tfidf`\n",
    "- The title is short, causing the sparse matrix. The sparse matrix isn't helpful for the distance calculation.\n",
    "\n",
    "Therefore, word vector will be adopted in the next part."
   ]
  },
  {
   "cell_type": "markdown",
   "metadata": {},
   "source": [
    "#### Embedding the Title Sentences \n",
    "\n",
    "`gensim` supplied the `word2vec` and `doc2vec` models to embedding the sentences.\n",
    "\n",
    "I found `spaCy` module by accident and wanna try this module here. \n",
    "\n",
    "There are many APIs that I can use, for the details https://spacy.io/api/doc."
   ]
  },
  {
   "cell_type": "code",
   "execution_count": 119,
   "metadata": {},
   "outputs": [
    {
     "name": "stdout",
     "output_type": "stream",
     "text": [
      "\u001b[38;5;2m✔ Linking successful\u001b[0m\r\n",
      "/anaconda3/lib/python3.7/site-packages/en_core_web_sm -->\r\n",
      "/anaconda3/lib/python3.7/site-packages/spacy/data/en_core_web_sm\r\n",
      "You can now load the model via spacy.load('en_core_web_sm')\r\n"
     ]
    }
   ],
   "source": [
    "# ! pip install spacy\n",
    "# ! python -m spacy download en_core_web_sm\n",
    "# ! python -m spacy link en_core_web_sm en_core_web_sm"
   ]
  },
  {
   "cell_type": "code",
   "execution_count": 9,
   "metadata": {},
   "outputs": [],
   "source": [
    "import spacy\n",
    "from tqdm import tqdm"
   ]
  },
  {
   "cell_type": "code",
   "execution_count": 10,
   "metadata": {},
   "outputs": [],
   "source": [
    "# Load English tokenizer, tagger, parser, NER and word vectors\n",
    "nlp = spacy.load(\"en_core_web_sm\")\n",
    "# See the details of this model on https://spacy.io/models/en"
   ]
  },
  {
   "cell_type": "code",
   "execution_count": 11,
   "metadata": {
    "scrolled": true
   },
   "outputs": [
    {
     "name": "stderr",
     "output_type": "stream",
     "text": [
      "100%|██████████| 1000/1000 [00:07<00:00, 142.02it/s]"
     ]
    },
    {
     "name": "stdout",
     "output_type": "stream",
     "text": [
      "CPU times: user 6.91 s, sys: 86.6 ms, total: 7 s\n",
      "Wall time: 7.05 s\n"
     ]
    },
    {
     "name": "stderr",
     "output_type": "stream",
     "text": [
      "\n"
     ]
    }
   ],
   "source": [
    "%%time \n",
    "\n",
    "sent_vecs={}\n",
    "docs=[]\n",
    "for title in tqdm(df['ArticleTitle']):\n",
    "    doc=nlp(title)\n",
    "#     print(title)\n",
    "    docs.append(doc)\n",
    "    sent_vecs.update({title:doc.vector})"
   ]
  },
  {
   "cell_type": "code",
   "execution_count": 95,
   "metadata": {},
   "outputs": [
    {
     "name": "stdout",
     "output_type": "stream",
     "text": [
      "CPU times: user 60 µs, sys: 0 ns, total: 60 µs\n",
      "Wall time: 63.9 µs\n"
     ]
    }
   ],
   "source": [
    "%%time\n",
    "sentences=list(sent_vecs.keys())\n",
    "sentence_vectors=list(sent_vecs.values())"
   ]
  },
  {
   "cell_type": "code",
   "execution_count": 25,
   "metadata": {},
   "outputs": [
    {
     "data": {
      "text/plain": [
       "(1000, 96)"
      ]
     },
     "execution_count": 25,
     "metadata": {},
     "output_type": "execute_result"
    }
   ],
   "source": [
    "np.array(sentence_vectors).shape\n",
    "# Here I use the shortten data set to for testing."
   ]
  },
  {
   "cell_type": "markdown",
   "metadata": {},
   "source": [
    "### Clustering \n",
    "\n",
    "There is no labels in the training data set, making it as a unsupervised learning problem. \n",
    "\n",
    "Since the number of cluster is dynamic, k-means is not suitable. \n",
    "\n",
    "`DESCAN` algorithm is used here to do the clustering. It is implemented by the `sklearn`.\n",
    "\n",
    "Several key args in DBSCAN:\n",
    "- `eps`: The maximum distance between two samples for one to be considered as in the neighborhood of the other\n",
    "- `min_samples`\n",
    "- `metric`: measurement of the distance\n"
   ]
  },
  {
   "cell_type": "code",
   "execution_count": 68,
   "metadata": {},
   "outputs": [],
   "source": [
    "import sklearn\n",
    "from sklearn.cluster import DBSCAN\n",
    "import scipy\n",
    "import seaborn \n",
    "import matplotlib.pyplot as plt"
   ]
  },
  {
   "cell_type": "markdown",
   "metadata": {},
   "source": [
    "How to set the `eps` value:\n",
    "- try some title pairs (the given examples in the original specification docs) to get a primary understanding\n",
    "- search among a window"
   ]
  },
  {
   "cell_type": "code",
   "execution_count": 59,
   "metadata": {},
   "outputs": [
    {
     "name": "stdout",
     "output_type": "stream",
     "text": [
      "[[0.         0.11499965 0.33364683 0.4923259  0.41949081]\n",
      " [0.11499965 0.         0.24020422 0.48308831 0.42145586]\n",
      " [0.33364683 0.24020422 0.         0.46316636 0.19827908]\n",
      " [0.4923259  0.48308831 0.46316636 0.         0.32832992]\n",
      " [0.41949081 0.42145586 0.19827908 0.32832992 0.        ]]\n"
     ]
    },
    {
     "data": {
      "text/plain": [
       "<matplotlib.axes._subplots.AxesSubplot at 0x1a309f8a20>"
      ]
     },
     "execution_count": 59,
     "metadata": {},
     "output_type": "execute_result"
    },
    {
     "data": {
      "image/png": "[encoded data removed]",
      "text/plain": [
       "<Figure size 432x288 with 2 Axes>"
      ]
     },
     "metadata": {
      "needs_background": "light"
     },
     "output_type": "display_data"
    }
   ],
   "source": [
    "# First, test custom sentences list and get the distance matrix\n",
    "sentence_pair = [\"Novak Djokovic equals Rafael Nadal's ATP Masters 1000 record with win over Stefanos Tsitsipas in Madrid\",\n",
    "                 \"Novak Djokovic eyes Paris after beating Stefanos Tsitsipas to win Madrid Open\",\n",
    "                \"(Video) Watch Asamoah Gyan score twice to save Kayserispor from relegation\",\n",
    "                \"Myanmar plane lands safely with no front wheels\",\n",
    "                \"Smoke fills Myanmar plane after emergency landing without front wheel – video\"]\n",
    "\n",
    "docs_custom=[]\n",
    "docs_custom_vectors=[]\n",
    "for i in sentence_pair:\n",
    "    doc_c=nlp(i)\n",
    "#     print(i)\n",
    "    docs_custom.append(doc_c)\n",
    "    docs_custom_vectors.append(doc_c.vector)  \n",
    "\n",
    "# Get the distance matrix \n",
    "distance_matrix_custom=np.ndarray((5,5))\n",
    "for i in range(5):\n",
    "    for j in range(5):\n",
    "        distance_matrix_custom[i][j] = scipy.spatial.distance.cosine(docs_custom_vectors[i], docs_custom_vectors[j])\n",
    "print(distance_matrix_custom)\n",
    "seaborn.heatmap(distance_matrix_custom)"
   ]
  },
  {
   "cell_type": "markdown",
   "metadata": {},
   "source": [
    "From the above matrix and heatmap, it turns out that the performance is not that good. \n",
    "\n",
    "The 1st and 2nd should in the same event, the 4th and 5th is in the same event. But the `distance_matrix[2,1]` is smaller than the `distance_matrix[4,3]`.\n",
    "\n",
    "Anyway, it worth a try.\n",
    "\n",
    "The best `eps` may be in [0.1,0.3].  "
   ]
  },
  {
   "cell_type": "code",
   "execution_count": 26,
   "metadata": {},
   "outputs": [],
   "source": [
    "# Get the vectors of sentences of the data set\n",
    "x=np.array(sentence_vectors)"
   ]
  },
  {
   "cell_type": "code",
   "execution_count": 60,
   "metadata": {},
   "outputs": [
    {
     "name": "stderr",
     "output_type": "stream",
     "text": [
      "100%|██████████| 500/500 [00:06<00:00, 74.21it/s]\n"
     ]
    }
   ],
   "source": [
    "# Grid search the best `eps` \n",
    "n_classes={}\n",
    "for i in tqdm(np.arange(0.001,1,0.002)):\n",
    "    dbscan=DBSCAN(eps=i,min_samples=2,metric='cosine').fit(x)\n",
    "    n_classes.update({i:len(pd.Series(dbscan.labels_).value_counts())})\n",
    "    "
   ]
  },
  {
   "cell_type": "code",
   "execution_count": 94,
   "metadata": {},
   "outputs": [
    {
     "data": {
      "image/png": "[encoded data removed]",
      "text/plain": [
       "<Figure size 432x288 with 1 Axes>"
      ]
     },
     "metadata": {
      "needs_background": "light"
     },
     "output_type": "display_data"
    }
   ],
   "source": [
    "# Show the results of Grid Search.\n",
    "y_max=np.max(y_axis)\n",
    "index_max=y_axis.index(y_max)\n",
    "\n",
    "x_axis=list(n_classes.keys())\n",
    "y_axis=list(n_classes.values())\n",
    "seaborn.lineplot(x_axis,y_axis)\n",
    "plt.title(\"The number of Clusters with different eps\")\n",
    "plt.xlabel(\"eps\")\n",
    "plt.ylabel(\"number of clusters\")\n",
    "\n",
    "# xlocs, xlabs = plt.xticks()\n",
    "plt.text(x_axis[index_max]+0.05, y_max-3, str(x_axis[index_max])+\", \"+str(y_max))\n",
    "plt.show()"
   ]
  },
  {
   "cell_type": "markdown",
   "metadata": {},
   "source": [
    "It seems that the best `eps` is around 0.09. I would choose 0.09 as the `eps`."
   ]
  },
  {
   "cell_type": "code",
   "execution_count": 97,
   "metadata": {},
   "outputs": [],
   "source": [
    "dbscan=DBSCAN(eps=0.09,min_samples=2,metric='cosine').fit(x)"
   ]
  },
  {
   "cell_type": "code",
   "execution_count": 119,
   "metadata": {
    "scrolled": true
   },
   "outputs": [
    {
     "name": "stdout",
     "output_type": "stream",
     "text": [
      "['Boy dies on prom day after allergic reaction to pollen while celebrating GCSEs', 'Boy collapses and dies after suffering allergic reaction to pollen while celebrating end of GCSEs in park']\n"
     ]
    },
    {
     "data": {
      "text/html": [
       "<div>\n",
       "<style scoped>\n",
       "    .dataframe tbody tr th:only-of-type {\n",
       "        vertical-align: middle;\n",
       "    }\n",
       "\n",
       "    .dataframe tbody tr th {\n",
       "        vertical-align: top;\n",
       "    }\n",
       "\n",
       "    .dataframe thead th {\n",
       "        text-align: right;\n",
       "    }\n",
       "</style>\n",
       "<table border=\"1\" class=\"dataframe\">\n",
       "  <thead>\n",
       "    <tr style=\"text-align: right;\">\n",
       "      <th></th>\n",
       "      <th>ArticleURL</th>\n",
       "      <th>ArticleTitle</th>\n",
       "      <th>ArticleDescription</th>\n",
       "      <th>ArticlePublishedTime</th>\n",
       "    </tr>\n",
       "  </thead>\n",
       "  <tbody>\n",
       "    <tr>\n",
       "      <th>2</th>\n",
       "      <td>https://www.mirror.co.uk/news/uk-news/boy-dies...</td>\n",
       "      <td>Boy dies on prom day after allergic reaction t...</td>\n",
       "      <td>Joe Dale's family have spoken out about losing...</td>\n",
       "      <td>2019-05-12 09:32:54</td>\n",
       "    </tr>\n",
       "    <tr>\n",
       "      <th>47</th>\n",
       "      <td>https://www.independent.co.uk/news/uk/home-new...</td>\n",
       "      <td>Boy collapses and dies after suffering allergi...</td>\n",
       "      <td>Parents speak out over 'heart-wrenching' loss ...</td>\n",
       "      <td>2019-05-12 09:47:12</td>\n",
       "    </tr>\n",
       "  </tbody>\n",
       "</table>\n",
       "</div>"
      ],
      "text/plain": [
       "                                           ArticleURL  \\\n",
       "2   https://www.mirror.co.uk/news/uk-news/boy-dies...   \n",
       "47  https://www.independent.co.uk/news/uk/home-new...   \n",
       "\n",
       "                                         ArticleTitle  \\\n",
       "2   Boy dies on prom day after allergic reaction t...   \n",
       "47  Boy collapses and dies after suffering allergi...   \n",
       "\n",
       "                                   ArticleDescription ArticlePublishedTime  \n",
       "2   Joe Dale's family have spoken out about losing...  2019-05-12 09:32:54  \n",
       "47  Parents speak out over 'heart-wrenching' loss ...  2019-05-12 09:47:12  "
      ]
     },
     "execution_count": 119,
     "metadata": {},
     "output_type": "execute_result"
    }
   ],
   "source": [
    "# See some examples from the results\n",
    "results = pd.DataFrame({'label': dbscan.labels_, 'sentence': sentences})\n",
    "example_result = results[results.label == 1]['sentence'].tolist()\n",
    "print(example_result)\n",
    "\n",
    "df_all = pd.read_excel(\"data/data_news_shortten.xlsx\", dtype=data_type)\n",
    "event_df = df_all[df_all['ArticleTitle'].isin(example_result)][['ArticleURL', 'ArticleTitle', 'ArticleDescription', 'ArticlePublishedTime']]\n",
    "event_df['ArticlePublishedTime'] = pd.to_datetime(event_df['ArticlePublishedTime'],unit='s')\n",
    "event_df\n",
    "#"
   ]
  },
  {
   "cell_type": "markdown",
   "metadata": {},
   "source": [
    "From this example, it seems that the performance is okay. Let's see the count of the clusters."
   ]
  },
  {
   "cell_type": "code",
   "execution_count": 106,
   "metadata": {
    "scrolled": true
   },
   "outputs": [
    {
     "data": {
      "text/html": [
       "<div>\n",
       "<style scoped>\n",
       "    .dataframe tbody tr th:only-of-type {\n",
       "        vertical-align: middle;\n",
       "    }\n",
       "\n",
       "    .dataframe tbody tr th {\n",
       "        vertical-align: top;\n",
       "    }\n",
       "\n",
       "    .dataframe thead th {\n",
       "        text-align: right;\n",
       "    }\n",
       "</style>\n",
       "<table border=\"1\" class=\"dataframe\">\n",
       "  <thead>\n",
       "    <tr style=\"text-align: right;\">\n",
       "      <th></th>\n",
       "      <th>sentence</th>\n",
       "    </tr>\n",
       "    <tr>\n",
       "      <th>label</th>\n",
       "      <th></th>\n",
       "    </tr>\n",
       "  </thead>\n",
       "  <tbody>\n",
       "    <tr>\n",
       "      <th>-1</th>\n",
       "      <td>767</td>\n",
       "    </tr>\n",
       "    <tr>\n",
       "      <th>0</th>\n",
       "      <td>2</td>\n",
       "    </tr>\n",
       "    <tr>\n",
       "      <th>1</th>\n",
       "      <td>2</td>\n",
       "    </tr>\n",
       "    <tr>\n",
       "      <th>2</th>\n",
       "      <td>157</td>\n",
       "    </tr>\n",
       "    <tr>\n",
       "      <th>3</th>\n",
       "      <td>2</td>\n",
       "    </tr>\n",
       "    <tr>\n",
       "      <th>4</th>\n",
       "      <td>2</td>\n",
       "    </tr>\n",
       "    <tr>\n",
       "      <th>5</th>\n",
       "      <td>2</td>\n",
       "    </tr>\n",
       "    <tr>\n",
       "      <th>6</th>\n",
       "      <td>4</td>\n",
       "    </tr>\n",
       "    <tr>\n",
       "      <th>7</th>\n",
       "      <td>2</td>\n",
       "    </tr>\n",
       "    <tr>\n",
       "      <th>8</th>\n",
       "      <td>3</td>\n",
       "    </tr>\n",
       "    <tr>\n",
       "      <th>9</th>\n",
       "      <td>2</td>\n",
       "    </tr>\n",
       "    <tr>\n",
       "      <th>10</th>\n",
       "      <td>5</td>\n",
       "    </tr>\n",
       "    <tr>\n",
       "      <th>11</th>\n",
       "      <td>2</td>\n",
       "    </tr>\n",
       "    <tr>\n",
       "      <th>12</th>\n",
       "      <td>2</td>\n",
       "    </tr>\n",
       "    <tr>\n",
       "      <th>13</th>\n",
       "      <td>2</td>\n",
       "    </tr>\n",
       "    <tr>\n",
       "      <th>14</th>\n",
       "      <td>2</td>\n",
       "    </tr>\n",
       "    <tr>\n",
       "      <th>15</th>\n",
       "      <td>2</td>\n",
       "    </tr>\n",
       "    <tr>\n",
       "      <th>16</th>\n",
       "      <td>3</td>\n",
       "    </tr>\n",
       "    <tr>\n",
       "      <th>17</th>\n",
       "      <td>2</td>\n",
       "    </tr>\n",
       "    <tr>\n",
       "      <th>18</th>\n",
       "      <td>5</td>\n",
       "    </tr>\n",
       "    <tr>\n",
       "      <th>19</th>\n",
       "      <td>3</td>\n",
       "    </tr>\n",
       "    <tr>\n",
       "      <th>20</th>\n",
       "      <td>2</td>\n",
       "    </tr>\n",
       "    <tr>\n",
       "      <th>21</th>\n",
       "      <td>2</td>\n",
       "    </tr>\n",
       "    <tr>\n",
       "      <th>22</th>\n",
       "      <td>2</td>\n",
       "    </tr>\n",
       "    <tr>\n",
       "      <th>23</th>\n",
       "      <td>2</td>\n",
       "    </tr>\n",
       "    <tr>\n",
       "      <th>24</th>\n",
       "      <td>2</td>\n",
       "    </tr>\n",
       "    <tr>\n",
       "      <th>25</th>\n",
       "      <td>2</td>\n",
       "    </tr>\n",
       "    <tr>\n",
       "      <th>26</th>\n",
       "      <td>2</td>\n",
       "    </tr>\n",
       "    <tr>\n",
       "      <th>27</th>\n",
       "      <td>2</td>\n",
       "    </tr>\n",
       "    <tr>\n",
       "      <th>28</th>\n",
       "      <td>2</td>\n",
       "    </tr>\n",
       "    <tr>\n",
       "      <th>29</th>\n",
       "      <td>2</td>\n",
       "    </tr>\n",
       "    <tr>\n",
       "      <th>30</th>\n",
       "      <td>2</td>\n",
       "    </tr>\n",
       "    <tr>\n",
       "      <th>31</th>\n",
       "      <td>2</td>\n",
       "    </tr>\n",
       "    <tr>\n",
       "      <th>32</th>\n",
       "      <td>3</td>\n",
       "    </tr>\n",
       "  </tbody>\n",
       "</table>\n",
       "</div>"
      ],
      "text/plain": [
       "       sentence\n",
       "label          \n",
       "-1          767\n",
       " 0            2\n",
       " 1            2\n",
       " 2          157\n",
       " 3            2\n",
       " 4            2\n",
       " 5            2\n",
       " 6            4\n",
       " 7            2\n",
       " 8            3\n",
       " 9            2\n",
       " 10           5\n",
       " 11           2\n",
       " 12           2\n",
       " 13           2\n",
       " 14           2\n",
       " 15           2\n",
       " 16           3\n",
       " 17           2\n",
       " 18           5\n",
       " 19           3\n",
       " 20           2\n",
       " 21           2\n",
       " 22           2\n",
       " 23           2\n",
       " 24           2\n",
       " 25           2\n",
       " 26           2\n",
       " 27           2\n",
       " 28           2\n",
       " 29           2\n",
       " 30           2\n",
       " 31           2\n",
       " 32           3"
      ]
     },
     "execution_count": 106,
     "metadata": {},
     "output_type": "execute_result"
    }
   ],
   "source": [
    "# Group by the label and show the count of each label.\n",
    "results.groupby('label').count()"
   ]
  },
  {
   "cell_type": "markdown",
   "metadata": {},
   "source": [
    "### Label and Output the results"
   ]
  },
  {
   "cell_type": "code",
   "execution_count": 121,
   "metadata": {},
   "outputs": [
    {
     "name": "stdout",
     "output_type": "stream",
     "text": [
      "<class 'pandas.core.frame.DataFrame'>\n",
      "RangeIndex: 1000 entries, 0 to 999\n",
      "Data columns (total 6 columns):\n",
      "ArticleId               1000 non-null object\n",
      "ArticleURL              1000 non-null object\n",
      "ArticleTitle            1000 non-null object\n",
      "ArticleDescription      733 non-null object\n",
      "ArticlePublishedTime    1000 non-null int64\n",
      "EventId                 0 non-null float64\n",
      "dtypes: float64(1), int64(1), object(4)\n",
      "memory usage: 47.0+ KB\n"
     ]
    }
   ],
   "source": [
    "df_all.info()"
   ]
  },
  {
   "cell_type": "code",
   "execution_count": 125,
   "metadata": {},
   "outputs": [],
   "source": [
    "df_all['EventId']=results['label']"
   ]
  },
  {
   "cell_type": "code",
   "execution_count": 127,
   "metadata": {},
   "outputs": [
    {
     "data": {
      "text/html": [
       "<div>\n",
       "<style scoped>\n",
       "    .dataframe tbody tr th:only-of-type {\n",
       "        vertical-align: middle;\n",
       "    }\n",
       "\n",
       "    .dataframe tbody tr th {\n",
       "        vertical-align: top;\n",
       "    }\n",
       "\n",
       "    .dataframe thead th {\n",
       "        text-align: right;\n",
       "    }\n",
       "</style>\n",
       "<table border=\"1\" class=\"dataframe\">\n",
       "  <thead>\n",
       "    <tr style=\"text-align: right;\">\n",
       "      <th></th>\n",
       "      <th>ArticleId</th>\n",
       "      <th>ArticleURL</th>\n",
       "      <th>ArticleTitle</th>\n",
       "      <th>ArticleDescription</th>\n",
       "      <th>ArticlePublishedTime</th>\n",
       "      <th>EventId</th>\n",
       "    </tr>\n",
       "  </thead>\n",
       "  <tbody>\n",
       "    <tr>\n",
       "      <th>0</th>\n",
       "      <td>5cd7ed707ddacd3b2b3b549e</td>\n",
       "      <td>https://www.bbc.co.uk/news/uk-england-suffolk-...</td>\n",
       "      <td>Lowestoft sea wall fall cyclist rescued by friend</td>\n",
       "      <td>Coastguards praise the boy's friend for his ac...</td>\n",
       "      <td>1557653530</td>\n",
       "      <td>-1</td>\n",
       "    </tr>\n",
       "    <tr>\n",
       "      <th>1</th>\n",
       "      <td>5cd7e83beb96a44751294217</td>\n",
       "      <td>https://www.highsnobiety.com/p/met-gala-best-c...</td>\n",
       "      <td>The Met Gala &amp; ‘Game of Thrones’ Feature in Th...</td>\n",
       "      <td>Once again, our ever-sarcastic readership have...</td>\n",
       "      <td>1557653563</td>\n",
       "      <td>0</td>\n",
       "    </tr>\n",
       "    <tr>\n",
       "      <th>2</th>\n",
       "      <td>5cd7e99a8e662d1e4435cb3d</td>\n",
       "      <td>https://www.mirror.co.uk/news/uk-news/boy-dies...</td>\n",
       "      <td>Boy dies on prom day after allergic reaction t...</td>\n",
       "      <td>Joe Dale's family have spoken out about losing...</td>\n",
       "      <td>1557653574</td>\n",
       "      <td>1</td>\n",
       "    </tr>\n",
       "    <tr>\n",
       "      <th>3</th>\n",
       "      <td>5cd7f6dd7ddacd3b2b3b56ab</td>\n",
       "      <td>https://www.independent.co.uk/voices/paddy-jac...</td>\n",
       "      <td>Paddy Jackson’s return to Rugby is yet more pr...</td>\n",
       "      <td>He may have been found not guilty of rape last...</td>\n",
       "      <td>1557653588</td>\n",
       "      <td>-1</td>\n",
       "    </tr>\n",
       "    <tr>\n",
       "      <th>4</th>\n",
       "      <td>5cd7e89c8e662d1e4435cb13</td>\n",
       "      <td>https://www.standard.co.uk/showbiz/celebrity-n...</td>\n",
       "      <td>BAFTA TV Awards 2019: Stars prepare for glitzy...</td>\n",
       "      <td>Stars are preparing for Sunday night s TV Baft...</td>\n",
       "      <td>1557653610</td>\n",
       "      <td>-1</td>\n",
       "    </tr>\n",
       "  </tbody>\n",
       "</table>\n",
       "</div>"
      ],
      "text/plain": [
       "                  ArticleId  \\\n",
       "0  5cd7ed707ddacd3b2b3b549e   \n",
       "1  5cd7e83beb96a44751294217   \n",
       "2  5cd7e99a8e662d1e4435cb3d   \n",
       "3  5cd7f6dd7ddacd3b2b3b56ab   \n",
       "4  5cd7e89c8e662d1e4435cb13   \n",
       "\n",
       "                                          ArticleURL  \\\n",
       "0  https://www.bbc.co.uk/news/uk-england-suffolk-...   \n",
       "1  https://www.highsnobiety.com/p/met-gala-best-c...   \n",
       "2  https://www.mirror.co.uk/news/uk-news/boy-dies...   \n",
       "3  https://www.independent.co.uk/voices/paddy-jac...   \n",
       "4  https://www.standard.co.uk/showbiz/celebrity-n...   \n",
       "\n",
       "                                        ArticleTitle  \\\n",
       "0  Lowestoft sea wall fall cyclist rescued by friend   \n",
       "1  The Met Gala & ‘Game of Thrones’ Feature in Th...   \n",
       "2  Boy dies on prom day after allergic reaction t...   \n",
       "3  Paddy Jackson’s return to Rugby is yet more pr...   \n",
       "4  BAFTA TV Awards 2019: Stars prepare for glitzy...   \n",
       "\n",
       "                                  ArticleDescription  ArticlePublishedTime  \\\n",
       "0  Coastguards praise the boy's friend for his ac...            1557653530   \n",
       "1  Once again, our ever-sarcastic readership have...            1557653563   \n",
       "2  Joe Dale's family have spoken out about losing...            1557653574   \n",
       "3  He may have been found not guilty of rape last...            1557653588   \n",
       "4  Stars are preparing for Sunday night s TV Baft...            1557653610   \n",
       "\n",
       "   EventId  \n",
       "0       -1  \n",
       "1        0  \n",
       "2        1  \n",
       "3       -1  \n",
       "4       -1  "
      ]
     },
     "execution_count": 127,
     "metadata": {},
     "output_type": "execute_result"
    }
   ],
   "source": [
    "df_all.head()"
   ]
  },
  {
   "cell_type": "code",
   "execution_count": 131,
   "metadata": {},
   "outputs": [],
   "source": [
    "df_all.to_csv(\"output/news_dataset_labeled_task1.csv\",index=False)"
   ]
  },
  {
   "cell_type": "markdown",
   "metadata": {},
   "source": [
    "### Summary \n",
    "\n",
    "In this part, I did the following work:\n",
    "- Load the data set\n",
    "- Clean the text: tokenization, remove stopwords and punctuation\n",
    "- Extract the features (TF-IDF, word vectors)\n",
    "- Clustering\n",
    "- Output the results.\n",
    "\n",
    "In the **text cleaning** part, I used `nltk` and `re` to clean. In the beginning, I only used `nltk`, but found the results not good. Then I import the `re`, used the regulation expression to get rid of the symbols and words combined with number.\n",
    "\n",
    "In the **feature extraction** part, I first used the TF-IDF to extract the feature, but the matrix is too sparse that it couldn't be used in the distance calculation. Then I turned to get the word vectors, the basic idea is to use the average of words vectors as the sentence vector. `spacy` is used here, which I just found by accident recently.\n",
    "\n",
    "To **clustered** the news related to the same event. It is basically a clustering problem in this task, but the data set is bigger and also need me to detect the non-breaking news. I just realized the clustering. Since the number of the clusters is unknown. DBSCAN (Density-Based Spatial Clustering of Applications with Noise) is used here, `sklearn` is used to implement the algorithm.\n",
    "\n",
    "---\n",
    "\n",
    "The final output can cluster some relating news, but it can't tell whether the news articles are about major breaking news or not... \n",
    "\n",
    "This kind news (which should be labeled `-1`) can be seen as two kinds:\n",
    "- Not telling the news happened in the current. It may be somebody's opinion on a general thing, like American dream, as the example showed.\n",
    "- The breaking news which is is related to is not that popular and there are few news about this event.\n",
    "\n",
    "For the first case, may be I should do classification before the clustering work. It needs the labelled data set to train the classifier.\n",
    "\n",
    "For the second case, my current model can realize some part of it. The news which have less relation with other news haven't been clustered.\n",
    "\n",
    "See the output file in the last code. I may also tidy up the code and build scripts in this project."
   ]
  },
  {
   "cell_type": "code",
   "execution_count": null,
   "metadata": {},
   "outputs": [],
   "source": []
  }
 ],
 "metadata": {
  "kernelspec": {
   "display_name": "Python 3",
   "language": "python",
   "name": "python3"
  },
  "language_info": {
   "codemirror_mode": {
    "name": "ipython",
    "version": 3
   },
   "file_extension": ".py",
   "mimetype": "text/x-python",
   "name": "python",
   "nbconvert_exporter": "python",
   "pygments_lexer": "ipython3",
   "version": "3.7.1"
  },
  "varInspector": {
   "cols": {
    "lenName": 16,
    "lenType": 16,
    "lenVar": 40
   },
   "kernels_config": {
    "python": {
     "delete_cmd_postfix": "",
     "delete_cmd_prefix": "del ",
     "library": "var_list.py",
     "varRefreshCmd": "print(var_dic_list())"
    },
    "r": {
     "delete_cmd_postfix": ") ",
     "delete_cmd_prefix": "rm(",
     "library": "var_list.r",
     "varRefreshCmd": "cat(var_dic_list()) "
    }
   },
   "types_to_exclude": [
    "module",
    "function",
    "builtin_function_or_method",
    "instance",
    "_Feature"
   ],
   "window_display": false
  }
 },
 "nbformat": 4,
 "nbformat_minor": 2
}
